{
 "cells": [
  {
   "cell_type": "code",
   "execution_count": 1,
   "metadata": {},
   "outputs": [],
   "source": [
    "import pandas as pd"
   ]
  },
  {
   "cell_type": "code",
   "execution_count": 2,
   "metadata": {},
   "outputs": [
    {
     "data": {
      "text/html": [
       "<div>\n",
       "<style scoped>\n",
       "    .dataframe tbody tr th:only-of-type {\n",
       "        vertical-align: middle;\n",
       "    }\n",
       "\n",
       "    .dataframe tbody tr th {\n",
       "        vertical-align: top;\n",
       "    }\n",
       "\n",
       "    .dataframe thead th {\n",
       "        text-align: right;\n",
       "    }\n",
       "</style>\n",
       "<table border=\"1\" class=\"dataframe\">\n",
       "  <thead>\n",
       "    <tr style=\"text-align: right;\">\n",
       "      <th></th>\n",
       "      <th>address</th>\n",
       "      <th>bathrooms</th>\n",
       "      <th>bedrooms</th>\n",
       "      <th>finishedsqft</th>\n",
       "      <th>lastsoldprice</th>\n",
       "      <th>neighborhood</th>\n",
       "      <th>totalrooms</th>\n",
       "    </tr>\n",
       "  </thead>\n",
       "  <tbody>\n",
       "    <tr>\n",
       "      <th>0</th>\n",
       "      <td>Address: 1160 Mission Street #2007</td>\n",
       "      <td>2.0</td>\n",
       "      <td>2</td>\n",
       "      <td>1043</td>\n",
       "      <td>1300000</td>\n",
       "      <td>South of Market</td>\n",
       "      <td>4</td>\n",
       "    </tr>\n",
       "    <tr>\n",
       "      <th>1</th>\n",
       "      <td>Address: 260 King Street #475</td>\n",
       "      <td>1.0</td>\n",
       "      <td>1</td>\n",
       "      <td>903</td>\n",
       "      <td>750000</td>\n",
       "      <td>South of Market</td>\n",
       "      <td>3</td>\n",
       "    </tr>\n",
       "    <tr>\n",
       "      <th>2</th>\n",
       "      <td>Address: 560 Missouri Street #B</td>\n",
       "      <td>4.0</td>\n",
       "      <td>3</td>\n",
       "      <td>1425</td>\n",
       "      <td>1495000</td>\n",
       "      <td>Potrero Hill</td>\n",
       "      <td>6</td>\n",
       "    </tr>\n",
       "    <tr>\n",
       "      <th>3</th>\n",
       "      <td>Address: 350 Missouri Street</td>\n",
       "      <td>3.0</td>\n",
       "      <td>3</td>\n",
       "      <td>2231</td>\n",
       "      <td>2700000</td>\n",
       "      <td>Potrero Hill</td>\n",
       "      <td>10</td>\n",
       "    </tr>\n",
       "    <tr>\n",
       "      <th>4</th>\n",
       "      <td>Address: 3658 Folsom Street</td>\n",
       "      <td>3.0</td>\n",
       "      <td>3</td>\n",
       "      <td>1300</td>\n",
       "      <td>1530000</td>\n",
       "      <td>Bernal Heights</td>\n",
       "      <td>4</td>\n",
       "    </tr>\n",
       "  </tbody>\n",
       "</table>\n",
       "</div>"
      ],
      "text/plain": [
       "                              address  bathrooms  bedrooms  finishedsqft  \\\n",
       "0  Address: 1160 Mission Street #2007        2.0         2          1043   \n",
       "1       Address: 260 King Street #475        1.0         1           903   \n",
       "2     Address: 560 Missouri Street #B        4.0         3          1425   \n",
       "3        Address: 350 Missouri Street        3.0         3          2231   \n",
       "4         Address: 3658 Folsom Street        3.0         3          1300   \n",
       "\n",
       "   lastsoldprice     neighborhood  totalrooms  \n",
       "0        1300000  South of Market           4  \n",
       "1         750000  South of Market           3  \n",
       "2        1495000     Potrero Hill           6  \n",
       "3        2700000     Potrero Hill          10  \n",
       "4        1530000   Bernal Heights           4  "
      ]
     },
     "execution_count": 2,
     "metadata": {},
     "output_type": "execute_result"
    }
   ],
   "source": [
    "sf = pd.read_csv('final_data2.csv')\n",
    "sf.head()"
   ]
  },
  {
   "cell_type": "code",
   "execution_count": 3,
   "metadata": {},
   "outputs": [
    {
     "name": "stdout",
     "output_type": "stream",
     "text": [
      "<class 'pandas.core.frame.DataFrame'>\n",
      "RangeIndex: 11330 entries, 0 to 11329\n",
      "Data columns (total 7 columns):\n",
      " #   Column         Non-Null Count  Dtype  \n",
      "---  ------         --------------  -----  \n",
      " 0   address        11330 non-null  object \n",
      " 1   bathrooms      11330 non-null  float64\n",
      " 2   bedrooms       11330 non-null  int64  \n",
      " 3   finishedsqft   11330 non-null  int64  \n",
      " 4   lastsoldprice  11330 non-null  int64  \n",
      " 5   neighborhood   11330 non-null  object \n",
      " 6   totalrooms     11330 non-null  int64  \n",
      "dtypes: float64(1), int64(4), object(2)\n",
      "memory usage: 619.7+ KB\n"
     ]
    }
   ],
   "source": [
    "sf.info()"
   ]
  },
  {
   "cell_type": "code",
   "execution_count": 4,
   "metadata": {},
   "outputs": [
    {
     "data": {
      "text/html": [
       "<div>\n",
       "<style scoped>\n",
       "    .dataframe tbody tr th:only-of-type {\n",
       "        vertical-align: middle;\n",
       "    }\n",
       "\n",
       "    .dataframe tbody tr th {\n",
       "        vertical-align: top;\n",
       "    }\n",
       "\n",
       "    .dataframe thead th {\n",
       "        text-align: right;\n",
       "    }\n",
       "</style>\n",
       "<table border=\"1\" class=\"dataframe\">\n",
       "  <thead>\n",
       "    <tr style=\"text-align: right;\">\n",
       "      <th></th>\n",
       "      <th>bathrooms</th>\n",
       "      <th>bedrooms</th>\n",
       "      <th>finishedsqft</th>\n",
       "      <th>lastsoldprice</th>\n",
       "      <th>totalrooms</th>\n",
       "    </tr>\n",
       "  </thead>\n",
       "  <tbody>\n",
       "    <tr>\n",
       "      <th>count</th>\n",
       "      <td>11330.000000</td>\n",
       "      <td>11330.000000</td>\n",
       "      <td>11330.000000</td>\n",
       "      <td>1.133000e+04</td>\n",
       "      <td>11330.000000</td>\n",
       "    </tr>\n",
       "    <tr>\n",
       "      <th>mean</th>\n",
       "      <td>1.980229</td>\n",
       "      <td>2.614475</td>\n",
       "      <td>1585.420918</td>\n",
       "      <td>1.263928e+06</td>\n",
       "      <td>6.111562</td>\n",
       "    </tr>\n",
       "    <tr>\n",
       "      <th>std</th>\n",
       "      <td>1.047358</td>\n",
       "      <td>1.299457</td>\n",
       "      <td>921.978245</td>\n",
       "      <td>1.042079e+06</td>\n",
       "      <td>12.125819</td>\n",
       "    </tr>\n",
       "    <tr>\n",
       "      <th>min</th>\n",
       "      <td>0.500000</td>\n",
       "      <td>0.000000</td>\n",
       "      <td>1.000000</td>\n",
       "      <td>5.350000e+02</td>\n",
       "      <td>1.000000</td>\n",
       "    </tr>\n",
       "    <tr>\n",
       "      <th>25%</th>\n",
       "      <td>1.000000</td>\n",
       "      <td>2.000000</td>\n",
       "      <td>1019.000000</td>\n",
       "      <td>7.292500e+05</td>\n",
       "      <td>4.000000</td>\n",
       "    </tr>\n",
       "    <tr>\n",
       "      <th>50%</th>\n",
       "      <td>2.000000</td>\n",
       "      <td>2.000000</td>\n",
       "      <td>1362.000000</td>\n",
       "      <td>9.900000e+05</td>\n",
       "      <td>5.000000</td>\n",
       "    </tr>\n",
       "    <tr>\n",
       "      <th>75%</th>\n",
       "      <td>2.000000</td>\n",
       "      <td>3.000000</td>\n",
       "      <td>1876.000000</td>\n",
       "      <td>1.450000e+06</td>\n",
       "      <td>7.000000</td>\n",
       "    </tr>\n",
       "    <tr>\n",
       "      <th>max</th>\n",
       "      <td>14.000000</td>\n",
       "      <td>20.000000</td>\n",
       "      <td>27275.000000</td>\n",
       "      <td>2.388900e+07</td>\n",
       "      <td>1264.000000</td>\n",
       "    </tr>\n",
       "  </tbody>\n",
       "</table>\n",
       "</div>"
      ],
      "text/plain": [
       "          bathrooms      bedrooms  finishedsqft  lastsoldprice    totalrooms\n",
       "count  11330.000000  11330.000000  11330.000000   1.133000e+04  11330.000000\n",
       "mean       1.980229      2.614475   1585.420918   1.263928e+06      6.111562\n",
       "std        1.047358      1.299457    921.978245   1.042079e+06     12.125819\n",
       "min        0.500000      0.000000      1.000000   5.350000e+02      1.000000\n",
       "25%        1.000000      2.000000   1019.000000   7.292500e+05      4.000000\n",
       "50%        2.000000      2.000000   1362.000000   9.900000e+05      5.000000\n",
       "75%        2.000000      3.000000   1876.000000   1.450000e+06      7.000000\n",
       "max       14.000000     20.000000  27275.000000   2.388900e+07   1264.000000"
      ]
     },
     "execution_count": 4,
     "metadata": {},
     "output_type": "execute_result"
    }
   ],
   "source": [
    "sf.describe()"
   ]
  },
  {
   "cell_type": "markdown",
   "metadata": {},
   "source": [
    "Because each neighborhood has the different home price, what we really want is the price per squre foot. So, we add a new variable \"price_per_sqft\". "
   ]
  },
  {
   "cell_type": "code",
   "execution_count": 5,
   "metadata": {},
   "outputs": [],
   "source": [
    "sf['price_per_sqft'] = sf['lastsoldprice']/sf['finishedsqft']"
   ]
  },
  {
   "cell_type": "markdown",
   "metadata": {},
   "source": [
    "Also there are 71 neighborhoods in the data, we are going to group them."
   ]
  },
  {
   "cell_type": "code",
   "execution_count": 6,
   "metadata": {},
   "outputs": [
    {
     "data": {
      "text/plain": [
       "71"
      ]
     },
     "execution_count": 6,
     "metadata": {},
     "output_type": "execute_result"
    }
   ],
   "source": [
    "len(sf['neighborhood'].value_counts())"
   ]
  },
  {
   "cell_type": "code",
   "execution_count": 7,
   "metadata": {},
   "outputs": [],
   "source": [
    "freq = sf.groupby('neighborhood').count()['address']\n",
    "#mean_price: average price per sqft\n",
    "mean = sf.groupby('neighborhood').mean()['price_per_sqft']\n",
    "cluster = pd.concat([freq, mean], axis=1)\n",
    "cluster['neighborhood'] = cluster.index"
   ]
  },
  {
   "cell_type": "code",
   "execution_count": 8,
   "metadata": {},
   "outputs": [],
   "source": [
    "cluster.columns = ['freq', 'price_per_sqft','neighborhood']"
   ]
  },
  {
   "cell_type": "code",
   "execution_count": 9,
   "metadata": {},
   "outputs": [
    {
     "data": {
      "text/html": [
       "<div>\n",
       "<style scoped>\n",
       "    .dataframe tbody tr th:only-of-type {\n",
       "        vertical-align: middle;\n",
       "    }\n",
       "\n",
       "    .dataframe tbody tr th {\n",
       "        vertical-align: top;\n",
       "    }\n",
       "\n",
       "    .dataframe thead th {\n",
       "        text-align: right;\n",
       "    }\n",
       "</style>\n",
       "<table border=\"1\" class=\"dataframe\">\n",
       "  <thead>\n",
       "    <tr style=\"text-align: right;\">\n",
       "      <th></th>\n",
       "      <th>freq</th>\n",
       "      <th>price_per_sqft</th>\n",
       "    </tr>\n",
       "  </thead>\n",
       "  <tbody>\n",
       "    <tr>\n",
       "      <th>count</th>\n",
       "      <td>71.000000</td>\n",
       "      <td>71.000000</td>\n",
       "    </tr>\n",
       "    <tr>\n",
       "      <th>mean</th>\n",
       "      <td>159.577465</td>\n",
       "      <td>1664.908308</td>\n",
       "    </tr>\n",
       "    <tr>\n",
       "      <th>std</th>\n",
       "      <td>126.572696</td>\n",
       "      <td>3619.277749</td>\n",
       "    </tr>\n",
       "    <tr>\n",
       "      <th>min</th>\n",
       "      <td>3.000000</td>\n",
       "      <td>374.201197</td>\n",
       "    </tr>\n",
       "    <tr>\n",
       "      <th>25%</th>\n",
       "      <td>67.500000</td>\n",
       "      <td>613.337664</td>\n",
       "    </tr>\n",
       "    <tr>\n",
       "      <th>50%</th>\n",
       "      <td>123.000000</td>\n",
       "      <td>756.246284</td>\n",
       "    </tr>\n",
       "    <tr>\n",
       "      <th>75%</th>\n",
       "      <td>210.500000</td>\n",
       "      <td>985.156646</td>\n",
       "    </tr>\n",
       "    <tr>\n",
       "      <th>max</th>\n",
       "      <td>540.000000</td>\n",
       "      <td>26914.471572</td>\n",
       "    </tr>\n",
       "  </tbody>\n",
       "</table>\n",
       "</div>"
      ],
      "text/plain": [
       "             freq  price_per_sqft\n",
       "count   71.000000       71.000000\n",
       "mean   159.577465     1664.908308\n",
       "std    126.572696     3619.277749\n",
       "min      3.000000      374.201197\n",
       "25%     67.500000      613.337664\n",
       "50%    123.000000      756.246284\n",
       "75%    210.500000      985.156646\n",
       "max    540.000000    26914.471572"
      ]
     },
     "execution_count": 9,
     "metadata": {},
     "output_type": "execute_result"
    }
   ],
   "source": [
    "cluster.describe()"
   ]
  },
  {
   "cell_type": "markdown",
   "metadata": {},
   "source": [
    "Cluster the neighborhood into three groups: 1. low price, 2. high price low frequency, 3. high price high frequency"
   ]
  },
  {
   "cell_type": "code",
   "execution_count": 10,
   "metadata": {},
   "outputs": [
    {
     "data": {
      "text/plain": [
       "Index(['Bayview', 'Central Richmond', 'Central Sunset', 'Crocker Amazon',\n",
       "       'Daly City', 'Diamond Heights', 'Excelsior', 'Forest Hill',\n",
       "       'Forest Hill Extension', 'Golden Gate Heights', 'Ingleside',\n",
       "       'Ingleside Heights', 'Ingleside Terrace', 'Inner Parkside',\n",
       "       'Inner Richmond', 'Inner Sunset', 'Lakeshore', 'Little Hollywood',\n",
       "       'Merced Heights', 'Mission Terrace', 'Mount Davidson Manor',\n",
       "       'Oceanview', 'Outer Mission', 'Outer Parkside', 'Outer Richmond',\n",
       "       'Outer Sunset', 'Parkside', 'Portola', 'Silver Terrace', 'Sunnyside',\n",
       "       'Visitacion Valley', 'West Portal', 'Western Addition',\n",
       "       'Westwood Highlands', 'Westwood Park'],\n",
       "      dtype='object', name='neighborhood')"
      ]
     },
     "execution_count": 10,
     "metadata": {},
     "output_type": "execute_result"
    }
   ],
   "source": [
    "cluster1 = cluster[cluster.price_per_sqft < 756]\n",
    "cluster1.index"
   ]
  },
  {
   "cell_type": "code",
   "execution_count": 11,
   "metadata": {},
   "outputs": [
    {
     "data": {
      "text/plain": [
       "Index(['Buena Vista Park', 'Central Waterfront - Dogpatch', 'Corona Heights',\n",
       "       'Haight-Ashbury', 'Lakeside', 'Lone Mountain', 'Midtown Terrace',\n",
       "       'North Beach', 'North Waterfront', 'Parnassus - Ashbury',\n",
       "       'Presidio Heights', 'Sea Cliff', 'St. Francis Wood', 'Telegraph Hill',\n",
       "       'Twin Peaks'],\n",
       "      dtype='object', name='neighborhood')"
      ]
     },
     "execution_count": 11,
     "metadata": {},
     "output_type": "execute_result"
    }
   ],
   "source": [
    "cluster_temp = cluster[cluster.price_per_sqft >= 756]\n",
    "cluster2 = cluster_temp[cluster_temp.freq <123]\n",
    "cluster2.index"
   ]
  },
  {
   "cell_type": "code",
   "execution_count": 12,
   "metadata": {},
   "outputs": [
    {
     "data": {
      "text/plain": [
       "Index(['Bernal Heights', 'Cow Hollow', 'Downtown',\n",
       "       'Eureka Valley - Dolores Heights - Castro', 'Glen Park', 'Hayes Valley',\n",
       "       'Lake', 'Lower Pacific Heights', 'Marina', 'Miraloma Park', 'Mission',\n",
       "       'Nob Hill', 'Noe Valley', 'North Panhandle', 'Pacific Heights',\n",
       "       'Potrero Hill', 'Russian Hill', 'South Beach', 'South of Market',\n",
       "       'Van Ness - Civic Center', 'Yerba Buena'],\n",
       "      dtype='object', name='neighborhood')"
      ]
     },
     "execution_count": 12,
     "metadata": {},
     "output_type": "execute_result"
    }
   ],
   "source": [
    "cluster3 = cluster_temp[cluster_temp.freq >=123]\n",
    "cluster3.index"
   ]
  },
  {
   "cell_type": "markdown",
   "metadata": {},
   "source": [
    "Add group column based on the clusters"
   ]
  },
  {
   "cell_type": "code",
   "execution_count": 13,
   "metadata": {},
   "outputs": [],
   "source": [
    "def get_group(x):\n",
    "    if x in cluster1.index:\n",
    "        return 'low_price'\n",
    "    elif x in cluster2.index:\n",
    "        return 'high_price_low_freq'\n",
    "    else:\n",
    "        return 'high_price_high_freq'\n",
    "sf['group'] = sf.neighborhood.apply(get_group)"
   ]
  },
  {
   "cell_type": "markdown",
   "metadata": {},
   "source": [
    "Now let's preprocess the categorical input feature, usecode"
   ]
  },
  {
   "cell_type": "code",
   "execution_count": 14,
   "metadata": {},
   "outputs": [
    {
     "data": {
      "text/html": [
       "<div>\n",
       "<style scoped>\n",
       "    .dataframe tbody tr th:only-of-type {\n",
       "        vertical-align: middle;\n",
       "    }\n",
       "\n",
       "    .dataframe tbody tr th {\n",
       "        vertical-align: top;\n",
       "    }\n",
       "\n",
       "    .dataframe thead th {\n",
       "        text-align: right;\n",
       "    }\n",
       "</style>\n",
       "<table border=\"1\" class=\"dataframe\">\n",
       "  <thead>\n",
       "    <tr style=\"text-align: right;\">\n",
       "      <th></th>\n",
       "      <th>0</th>\n",
       "      <th>1</th>\n",
       "      <th>2</th>\n",
       "      <th>3</th>\n",
       "      <th>4</th>\n",
       "    </tr>\n",
       "  </thead>\n",
       "  <tbody>\n",
       "    <tr>\n",
       "      <th>address</th>\n",
       "      <td>Address: 1160 Mission Street #2007</td>\n",
       "      <td>Address: 260 King Street #475</td>\n",
       "      <td>Address: 560 Missouri Street #B</td>\n",
       "      <td>Address: 350 Missouri Street</td>\n",
       "      <td>Address: 3658 Folsom Street</td>\n",
       "    </tr>\n",
       "    <tr>\n",
       "      <th>bathrooms</th>\n",
       "      <td>2.0</td>\n",
       "      <td>1.0</td>\n",
       "      <td>4.0</td>\n",
       "      <td>3.0</td>\n",
       "      <td>3.0</td>\n",
       "    </tr>\n",
       "    <tr>\n",
       "      <th>bedrooms</th>\n",
       "      <td>2</td>\n",
       "      <td>1</td>\n",
       "      <td>3</td>\n",
       "      <td>3</td>\n",
       "      <td>3</td>\n",
       "    </tr>\n",
       "    <tr>\n",
       "      <th>finishedsqft</th>\n",
       "      <td>1043</td>\n",
       "      <td>903</td>\n",
       "      <td>1425</td>\n",
       "      <td>2231</td>\n",
       "      <td>1300</td>\n",
       "    </tr>\n",
       "    <tr>\n",
       "      <th>lastsoldprice</th>\n",
       "      <td>1300000</td>\n",
       "      <td>750000</td>\n",
       "      <td>1495000</td>\n",
       "      <td>2700000</td>\n",
       "      <td>1530000</td>\n",
       "    </tr>\n",
       "    <tr>\n",
       "      <th>neighborhood</th>\n",
       "      <td>South of Market</td>\n",
       "      <td>South of Market</td>\n",
       "      <td>Potrero Hill</td>\n",
       "      <td>Potrero Hill</td>\n",
       "      <td>Bernal Heights</td>\n",
       "    </tr>\n",
       "    <tr>\n",
       "      <th>totalrooms</th>\n",
       "      <td>4</td>\n",
       "      <td>3</td>\n",
       "      <td>6</td>\n",
       "      <td>10</td>\n",
       "      <td>4</td>\n",
       "    </tr>\n",
       "    <tr>\n",
       "      <th>price_per_sqft</th>\n",
       "      <td>1246.404602</td>\n",
       "      <td>830.564784</td>\n",
       "      <td>1049.122807</td>\n",
       "      <td>1210.219632</td>\n",
       "      <td>1176.923077</td>\n",
       "    </tr>\n",
       "    <tr>\n",
       "      <th>group</th>\n",
       "      <td>high_price_high_freq</td>\n",
       "      <td>high_price_high_freq</td>\n",
       "      <td>high_price_high_freq</td>\n",
       "      <td>high_price_high_freq</td>\n",
       "      <td>high_price_high_freq</td>\n",
       "    </tr>\n",
       "  </tbody>\n",
       "</table>\n",
       "</div>"
      ],
      "text/plain": [
       "                                                 0  \\\n",
       "address         Address: 1160 Mission Street #2007   \n",
       "bathrooms                                      2.0   \n",
       "bedrooms                                         2   \n",
       "finishedsqft                                  1043   \n",
       "lastsoldprice                              1300000   \n",
       "neighborhood                       South of Market   \n",
       "totalrooms                                       4   \n",
       "price_per_sqft                         1246.404602   \n",
       "group                         high_price_high_freq   \n",
       "\n",
       "                                            1  \\\n",
       "address         Address: 260 King Street #475   \n",
       "bathrooms                                 1.0   \n",
       "bedrooms                                    1   \n",
       "finishedsqft                              903   \n",
       "lastsoldprice                          750000   \n",
       "neighborhood                  South of Market   \n",
       "totalrooms                                  3   \n",
       "price_per_sqft                     830.564784   \n",
       "group                    high_price_high_freq   \n",
       "\n",
       "                                              2                             3  \\\n",
       "address         Address: 560 Missouri Street #B  Address: 350 Missouri Street   \n",
       "bathrooms                                   4.0                           3.0   \n",
       "bedrooms                                      3                             3   \n",
       "finishedsqft                               1425                          2231   \n",
       "lastsoldprice                           1495000                       2700000   \n",
       "neighborhood                       Potrero Hill                  Potrero Hill   \n",
       "totalrooms                                    6                            10   \n",
       "price_per_sqft                      1049.122807                   1210.219632   \n",
       "group                      high_price_high_freq          high_price_high_freq   \n",
       "\n",
       "                                          4  \n",
       "address         Address: 3658 Folsom Street  \n",
       "bathrooms                               3.0  \n",
       "bedrooms                                  3  \n",
       "finishedsqft                           1300  \n",
       "lastsoldprice                       1530000  \n",
       "neighborhood                 Bernal Heights  \n",
       "totalrooms                                4  \n",
       "price_per_sqft                  1176.923077  \n",
       "group                  high_price_high_freq  "
      ]
     },
     "execution_count": 14,
     "metadata": {},
     "output_type": "execute_result"
    }
   ],
   "source": [
    "sf.head().T"
   ]
  }
 ],
 "metadata": {
  "kernelspec": {
   "display_name": "Python 3",
   "language": "python",
   "name": "python3"
  },
  "language_info": {
   "codemirror_mode": {
    "name": "ipython",
    "version": 3
   },
   "file_extension": ".py",
   "mimetype": "text/x-python",
   "name": "python",
   "nbconvert_exporter": "python",
   "pygments_lexer": "ipython3",
   "version": "3.7.4"
  }
 },
 "nbformat": 4,
 "nbformat_minor": 2
}
